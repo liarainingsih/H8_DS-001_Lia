{
 "cells": [
  {
   "cell_type": "code",
   "execution_count": 1,
   "id": "2a092e87",
   "metadata": {},
   "outputs": [
    {
     "data": {
      "text/plain": [
       "array([17, 22, 19])"
      ]
     },
     "execution_count": 1,
     "metadata": {},
     "output_type": "execute_result"
    }
   ],
   "source": [
    "import numpy as np\n",
    "\n",
    "vc = np.array([17, 22, 19])\n",
    "vc"
   ]
  },
  {
   "cell_type": "code",
   "execution_count": 4,
   "id": "bc3063fb",
   "metadata": {},
   "outputs": [
    {
     "data": {
      "text/plain": [
       "array([[ 23,   7,  57],\n",
       "       [ 50,  12,  67],\n",
       "       [ 19, 109,  98]])"
      ]
     },
     "execution_count": 4,
     "metadata": {},
     "output_type": "execute_result"
    }
   ],
   "source": [
    "mt = np.array([[23, 7, 57], [50, 12, 67], [19, 109, 98]])\n",
    "mt"
   ]
  },
  {
   "cell_type": "code",
   "execution_count": 5,
   "id": "1aed58d0",
   "metadata": {},
   "outputs": [
    {
     "data": {
      "text/plain": [
       "array([[[[23,  7],\n",
       "         [50, 12]],\n",
       "\n",
       "        [[75, 57],\n",
       "         [21, 12]]],\n",
       "\n",
       "\n",
       "       [[[57, 99],\n",
       "         [67, 43]],\n",
       "\n",
       "        [[87, 18],\n",
       "         [26, 84]]]])"
      ]
     },
     "execution_count": 5,
     "metadata": {},
     "output_type": "execute_result"
    }
   ],
   "source": [
    "ts = np.array([[[[23, 7], [50, 12]],[[75, 57], [21, 12]]], [[[57, 99],[67, 43]], [[87, 18], [26, 84]]]])\n",
    "ts"
   ]
  },
  {
   "cell_type": "code",
   "execution_count": 24,
   "id": "e11c62e8",
   "metadata": {},
   "outputs": [
    {
     "data": {
      "text/plain": [
       "array([1628, 2387, 4583])"
      ]
     },
     "execution_count": 24,
     "metadata": {},
     "output_type": "execute_result"
    }
   ],
   "source": [
    "#perkalian matriks\n",
    "m = np.array([[23, 7, 57], [50, 12, 67], [19, 109, 98]])\n",
    "n = np.array([17, 22, 19])\n",
    "mn = m.dot(n)\n",
    "mn"
   ]
  },
  {
   "cell_type": "code",
   "execution_count": 20,
   "id": "c00d2280",
   "metadata": {},
   "outputs": [
    {
     "data": {
      "text/plain": [
       "array([[ 23,   7,  57],\n",
       "       [ 50,  12,  67],\n",
       "       [ 19, 109,  98]])"
      ]
     },
     "execution_count": 20,
     "metadata": {},
     "output_type": "execute_result"
    }
   ],
   "source": [
    "#transpose matriks\n",
    "A = np.array([[23, 50, 19],[7, 12, 109],[57, 67, 98]])\n",
    "TR = A.T\n",
    "TR"
   ]
  },
  {
   "cell_type": "code",
   "execution_count": 26,
   "id": "96732ef8",
   "metadata": {},
   "outputs": [
    {
     "data": {
      "image/png": "[encoded data removed]",
      "text/plain": [
       "<Figure size 432x288 with 1 Axes>"
      ]
     },
     "metadata": {
      "needs_background": "light"
     },
     "output_type": "display_data"
    }
   ],
   "source": [
    "#Plot\n",
    "%matplotlib inline\n",
    "import matplotlib.pyplot as plt\n",
    "u = np.array([2, 5])\n",
    "v = np.array([3, 1])\n",
    "x_coords, y_coords = zip(u, v)\n",
    "plt.scatter(x_coords, y_coords, color=[\"r\",\"b\"])\n",
    "plt.axis([0, 9, 0, 6])\n",
    "plt.show()"
   ]
  },
  {
   "cell_type": "code",
   "execution_count": null,
   "id": "8613fc8b",
   "metadata": {},
   "outputs": [],
   "source": []
  }
 ],
 "metadata": {
  "kernelspec": {
   "display_name": "Python 3",
   "language": "python",
   "name": "python3"
  },
  "language_info": {
   "codemirror_mode": {
    "name": "ipython",
    "version": 3
   },
   "file_extension": ".py",
   "mimetype": "text/x-python",
   "name": "python",
   "nbconvert_exporter": "python",
   "pygments_lexer": "ipython3",
   "version": "3.8.8"
  }
 },
 "nbformat": 4,
 "nbformat_minor": 5
}
