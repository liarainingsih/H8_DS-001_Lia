{
  "nbformat": 4,
  "nbformat_minor": 0,
  "metadata": {
    "colab": {
      "name": "h8dsft_looping",
      "provenance": [],
      "authorship_tag": "ABX9TyMuggMJ0doEyOgAgiHs3/6g",
      "include_colab_link": true
    },
    "kernelspec": {
      "name": "python3",
      "display_name": "Python 3"
    },
    "language_info": {
      "name": "python"
    }
  },
  "cells": [
    {
      "cell_type": "markdown",
      "metadata": {
        "id": "view-in-github",
        "colab_type": "text"
      },
      "source": [
        "<a href=\"https://colab.research.google.com/github/liarainingsih/H8_DS-001_Lia/blob/main/h8dsft_looping.ipynb\" target=\"_parent\"><img src=\"https://colab.research.google.com/assets/colab-badge.svg\" alt=\"Open In Colab\"/></a>"
      ]
    },
    {
      "cell_type": "code",
      "metadata": {
        "colab": {
          "base_uri": "https://localhost:8080/"
        },
        "id": "BGCyQkeFbl_E",
        "outputId": "6e4fd0c1-78a9-4f6f-df39-15555c6d6435"
      },
      "source": [
        "numbers = [ 951, 402, 984, 651, 360, 69, 408, 319, 601, 485, 980, 507, 725, \n",
        "           547, 544, 615, 83, 165, 141, 501, 263, 617, 865, 575, 219, 390, \n",
        "           984, 592, 236, 105, 942, 941, 386, 462, 47, 418, 907, 344, 236, \n",
        "           375, 823, 566, 597, 978, 328, 615, 953, 345, 399, 162, 758, 219, \n",
        "           918, 237, 412, 566, 826, 248, 866, 950, 626, 949]\n",
        "\n",
        "for i in numbers:\n",
        "  if i % 2 == 0:\n",
        "    print(i)\n",
        "    if i == 918:\n",
        "      break\n",
        "print ('Done.')"
      ],
      "execution_count": 12,
      "outputs": [
        {
          "output_type": "stream",
          "text": [
            "angka setelah 918 tidak diprint :\n",
            "Done.\n"
          ],
          "name": "stdout"
        }
      ]
    },
    {
      "cell_type": "code",
      "metadata": {
        "id": "n9Z32BTctq-b"
      },
      "source": [
        ""
      ],
      "execution_count": null,
      "outputs": []
    }
  ]
}