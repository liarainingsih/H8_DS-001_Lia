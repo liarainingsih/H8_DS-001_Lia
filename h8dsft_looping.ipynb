{
  "nbformat": 4,
  "nbformat_minor": 0,
  "metadata": {
    "colab": {
      "name": "h8dsft_looping",
      "provenance": [],
      "authorship_tag": "ABX9TyPXpZcmIgrJ8lLPxr26unSw",
      "include_colab_link": true
    },
    "kernelspec": {
      "name": "python3",
      "display_name": "Python 3"
    },
    "language_info": {
      "name": "python"
    }
  },
  "cells": [
    {
      "cell_type": "markdown",
      "metadata": {
        "id": "view-in-github",
        "colab_type": "text"
      },
      "source": [
        "<a href=\"https://colab.research.google.com/github/liarainingsih/H8_DS-001_Lia/blob/main/h8dsft_looping.ipynb\" target=\"_parent\"><img src=\"https://colab.research.google.com/assets/colab-badge.svg\" alt=\"Open In Colab\"/></a>"
      ]
    },
    {
      "cell_type": "code",
      "metadata": {
        "colab": {
          "base_uri": "https://localhost:8080/"
        },
        "id": "BGCyQkeFbl_E",
        "outputId": "36e8bf29-a8db-47f7-f5c4-ff249e80a8e9"
      },
      "source": [
        "numbers = [951, 402, 984, 651, 360, 69, 408, 319, 601, 485, 980, 507, 725, 547, 544, 615, 83, 165, 141, 501, 263, 617, 865, 575, 219, 390, 984, 592, 236, 105, 942, 941, 386, 462, 47, 418, 907, 344, 236, 375, 823, 566, 597, 978, 328, 615, 953, 345, 399, 162, 758, 219, 918, 237, 412, 566, 826, 248, 866, 950, 626, 949]\n",
        "a = []\n",
        "\n",
        "for i in numbers:\n",
        "  if i % 2 == 0:\n",
        "    a.append(i)\n",
        "\n",
        "a.sort()\n",
        "for k in a:\n",
        "  print(k)\n",
        "\n",
        "print('angka setelah 918 tidak diprint :')\n",
        "for j in a:\n",
        "  if j <= 918:\n",
        "    print(j)\n",
        "else:\n",
        "    print ('Done.')"
      ],
      "execution_count": 1,
      "outputs": [
        {
          "output_type": "stream",
          "text": [
            "162\n",
            "236\n",
            "236\n",
            "248\n",
            "328\n",
            "344\n",
            "360\n",
            "386\n",
            "390\n",
            "402\n",
            "408\n",
            "412\n",
            "418\n",
            "462\n",
            "544\n",
            "566\n",
            "566\n",
            "592\n",
            "626\n",
            "758\n",
            "826\n",
            "866\n",
            "918\n",
            "942\n",
            "950\n",
            "978\n",
            "980\n",
            "984\n",
            "984\n",
            "angka setelah 918 tidak diprint :\n",
            "162\n",
            "236\n",
            "236\n",
            "248\n",
            "328\n",
            "344\n",
            "360\n",
            "386\n",
            "390\n",
            "402\n",
            "408\n",
            "412\n",
            "418\n",
            "462\n",
            "544\n",
            "566\n",
            "566\n",
            "592\n",
            "626\n",
            "758\n",
            "826\n",
            "866\n",
            "918\n",
            "Done.\n"
          ],
          "name": "stdout"
        }
      ]
    }
  ]
}